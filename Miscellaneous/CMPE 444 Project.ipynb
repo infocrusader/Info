{
 "cells": [
  {
   "cell_type": "code",
   "execution_count": 1,
   "metadata": {},
   "outputs": [],
   "source": [
    "import numpy as np\n",
    "\n",
    "import pandas as pd\n",
    "import matplotlib.pyplot as plt\n",
    "%matplotlib inline"
   ]
  },
  {
   "cell_type": "code",
   "execution_count": 89,
   "metadata": {},
   "outputs": [],
   "source": [
    "data = pd.read_excel(r'C:\\Users\\Sadiq Tijjani\\Desktop\\New_dataset.xlsx')"
   ]
  },
  {
   "cell_type": "code",
   "execution_count": 13,
   "metadata": {},
   "outputs": [
    {
     "data": {
      "text/html": [
       "<div>\n",
       "<style scoped>\n",
       "    .dataframe tbody tr th:only-of-type {\n",
       "        vertical-align: middle;\n",
       "    }\n",
       "\n",
       "    .dataframe tbody tr th {\n",
       "        vertical-align: top;\n",
       "    }\n",
       "\n",
       "    .dataframe thead th {\n",
       "        text-align: right;\n",
       "    }\n",
       "</style>\n",
       "<table border=\"1\" class=\"dataframe\">\n",
       "  <thead>\n",
       "    <tr style=\"text-align: right;\">\n",
       "      <th></th>\n",
       "      <th>Date</th>\n",
       "      <th>opening</th>\n",
       "      <th>high</th>\n",
       "      <th>low</th>\n",
       "      <th>volume</th>\n",
       "      <th>difference</th>\n",
       "    </tr>\n",
       "  </thead>\n",
       "  <tbody>\n",
       "    <tr>\n",
       "      <td>0</td>\n",
       "      <td>2020-12-01</td>\n",
       "      <td>19697.8</td>\n",
       "      <td>19897.4</td>\n",
       "      <td>18257.0</td>\n",
       "      <td>582,98K</td>\n",
       "      <td>-2,83%</td>\n",
       "    </tr>\n",
       "    <tr>\n",
       "      <td>1</td>\n",
       "      <td>2020-11-01</td>\n",
       "      <td>18394.6</td>\n",
       "      <td>19831.2</td>\n",
       "      <td>16235.2</td>\n",
       "      <td>4,05M</td>\n",
       "      <td>42,77%</td>\n",
       "    </tr>\n",
       "    <tr>\n",
       "      <td>2</td>\n",
       "      <td>2020-10-01</td>\n",
       "      <td>10776.6</td>\n",
       "      <td>14065.4</td>\n",
       "      <td>10387.6</td>\n",
       "      <td>2,41M</td>\n",
       "      <td>28,04%</td>\n",
       "    </tr>\n",
       "    <tr>\n",
       "      <td>3</td>\n",
       "      <td>2020-09-01</td>\n",
       "      <td>11644.2</td>\n",
       "      <td>12045.9</td>\n",
       "      <td>9877.1</td>\n",
       "      <td>83,88M</td>\n",
       "      <td>-7,46%</td>\n",
       "    </tr>\n",
       "    <tr>\n",
       "      <td>4</td>\n",
       "      <td>2020-08-01</td>\n",
       "      <td>11333.2</td>\n",
       "      <td>12444.1</td>\n",
       "      <td>10730.7</td>\n",
       "      <td>15,39M</td>\n",
       "      <td>2,74%</td>\n",
       "    </tr>\n",
       "  </tbody>\n",
       "</table>\n",
       "</div>"
      ],
      "text/plain": [
       "        Date  opening     high      low   volume difference\n",
       "0 2020-12-01  19697.8  19897.4  18257.0  582,98K     -2,83%\n",
       "1 2020-11-01  18394.6  19831.2  16235.2    4,05M     42,77%\n",
       "2 2020-10-01  10776.6  14065.4  10387.6    2,41M     28,04%\n",
       "3 2020-09-01  11644.2  12045.9   9877.1   83,88M     -7,46%\n",
       "4 2020-08-01  11333.2  12444.1  10730.7   15,39M      2,74%"
      ]
     },
     "execution_count": 13,
     "metadata": {},
     "output_type": "execute_result"
    }
   ],
   "source": [
    "data.head()"
   ]
  },
  {
   "cell_type": "code",
   "execution_count": 14,
   "metadata": {},
   "outputs": [
    {
     "data": {
      "text/html": [
       "<div>\n",
       "<style scoped>\n",
       "    .dataframe tbody tr th:only-of-type {\n",
       "        vertical-align: middle;\n",
       "    }\n",
       "\n",
       "    .dataframe tbody tr th {\n",
       "        vertical-align: top;\n",
       "    }\n",
       "\n",
       "    .dataframe thead th {\n",
       "        text-align: right;\n",
       "    }\n",
       "</style>\n",
       "<table border=\"1\" class=\"dataframe\">\n",
       "  <thead>\n",
       "    <tr style=\"text-align: right;\">\n",
       "      <th></th>\n",
       "      <th>opening</th>\n",
       "      <th>high</th>\n",
       "      <th>low</th>\n",
       "    </tr>\n",
       "  </thead>\n",
       "  <tbody>\n",
       "    <tr>\n",
       "      <td>count</td>\n",
       "      <td>125.000000</td>\n",
       "      <td>125.000000</td>\n",
       "      <td>125.000000</td>\n",
       "    </tr>\n",
       "    <tr>\n",
       "      <td>mean</td>\n",
       "      <td>2965.964000</td>\n",
       "      <td>3584.923200</td>\n",
       "      <td>2507.803200</td>\n",
       "    </tr>\n",
       "    <tr>\n",
       "      <td>std</td>\n",
       "      <td>4293.762938</td>\n",
       "      <td>5114.344545</td>\n",
       "      <td>3708.423797</td>\n",
       "    </tr>\n",
       "    <tr>\n",
       "      <td>min</td>\n",
       "      <td>0.100000</td>\n",
       "      <td>0.100000</td>\n",
       "      <td>0.000000</td>\n",
       "    </tr>\n",
       "    <tr>\n",
       "      <td>25%</td>\n",
       "      <td>33.400000</td>\n",
       "      <td>95.700000</td>\n",
       "      <td>32.900000</td>\n",
       "    </tr>\n",
       "    <tr>\n",
       "      <td>50%</td>\n",
       "      <td>481.800000</td>\n",
       "      <td>627.900000</td>\n",
       "      <td>412.400000</td>\n",
       "    </tr>\n",
       "    <tr>\n",
       "      <td>75%</td>\n",
       "      <td>6365.900000</td>\n",
       "      <td>7358.400000</td>\n",
       "      <td>4143.400000</td>\n",
       "    </tr>\n",
       "    <tr>\n",
       "      <td>max</td>\n",
       "      <td>19697.800000</td>\n",
       "      <td>19897.400000</td>\n",
       "      <td>18257.000000</td>\n",
       "    </tr>\n",
       "  </tbody>\n",
       "</table>\n",
       "</div>"
      ],
      "text/plain": [
       "            opening          high           low\n",
       "count    125.000000    125.000000    125.000000\n",
       "mean    2965.964000   3584.923200   2507.803200\n",
       "std     4293.762938   5114.344545   3708.423797\n",
       "min        0.100000      0.100000      0.000000\n",
       "25%       33.400000     95.700000     32.900000\n",
       "50%      481.800000    627.900000    412.400000\n",
       "75%     6365.900000   7358.400000   4143.400000\n",
       "max    19697.800000  19897.400000  18257.000000"
      ]
     },
     "execution_count": 14,
     "metadata": {},
     "output_type": "execute_result"
    }
   ],
   "source": [
    "data.describe()"
   ]
  },
  {
   "cell_type": "code",
   "execution_count": 15,
   "metadata": {},
   "outputs": [
    {
     "data": {
      "text/plain": [
       "Date          datetime64[ns]\n",
       "opening              float64\n",
       "high                 float64\n",
       "low                  float64\n",
       "volume                object\n",
       "difference            object\n",
       "dtype: object"
      ]
     },
     "execution_count": 15,
     "metadata": {},
     "output_type": "execute_result"
    }
   ],
   "source": [
    "data.dtypes"
   ]
  },
  {
   "cell_type": "code",
   "execution_count": 17,
   "metadata": {},
   "outputs": [
    {
     "data": {
      "text/plain": [
       "Date          125\n",
       "opening       119\n",
       "high          124\n",
       "low           119\n",
       "volume        119\n",
       "difference    119\n",
       "dtype: int32"
      ]
     },
     "execution_count": 17,
     "metadata": {},
     "output_type": "execute_result"
    }
   ],
   "source": [
    "def count_unique(column):\n",
    "    return len(column.unique())##Showing how many values under each column\n",
    "\n",
    "data.apply(count_unique, axis=0).astype(np.int32) "
   ]
  },
  {
   "cell_type": "code",
   "execution_count": 16,
   "metadata": {},
   "outputs": [
    {
     "data": {
      "text/plain": [
       "Date          False\n",
       "opening       False\n",
       "high          False\n",
       "low           False\n",
       "volume        False\n",
       "difference    False\n",
       "dtype: bool"
      ]
     },
     "execution_count": 16,
     "metadata": {},
     "output_type": "execute_result"
    }
   ],
   "source": [
    "data.isnull().any() ##Checking for Null Values"
   ]
  },
  {
   "cell_type": "code",
   "execution_count": 90,
   "metadata": {},
   "outputs": [
    {
     "data": {
      "text/plain": [
       "Text(0, 0.5, 'Opening Bitcoin Price')"
      ]
     },
     "execution_count": 90,
     "metadata": {},
     "output_type": "execute_result"
    },
    {
     "data": {
      "image/png": "[encoded data removed]",
      "text/plain": [
       "<Figure size 1440x720 with 1 Axes>"
      ]
     },
     "metadata": {
      "needs_background": "light"
     },
     "output_type": "display_data"
    }
   ],
   "source": [
    "price_data = data[data.opening>=0.1].sort_values('Date')##values of opening price\n",
    "plt.figure(figsize=(20, 10))  # Set figsize to increase size of the figure\n",
    "plt.plot(price_data.opening.values)##all values\n",
    "plt.xlabel('Time Span')\n",
    "plt.ylabel('Opening Bitcoin Price')"
   ]
  },
  {
   "cell_type": "code",
   "execution_count": 106,
   "metadata": {},
   "outputs": [
    {
     "data": {
      "text/html": [
       "<div>\n",
       "<style scoped>\n",
       "    .dataframe tbody tr th:only-of-type {\n",
       "        vertical-align: middle;\n",
       "    }\n",
       "\n",
       "    .dataframe tbody tr th {\n",
       "        vertical-align: top;\n",
       "    }\n",
       "\n",
       "    .dataframe thead th {\n",
       "        text-align: right;\n",
       "    }\n",
       "</style>\n",
       "<table border=\"1\" class=\"dataframe\">\n",
       "  <thead>\n",
       "    <tr style=\"text-align: right;\">\n",
       "      <th></th>\n",
       "      <th>Close</th>\n",
       "      <th>Prediction</th>\n",
       "    </tr>\n",
       "  </thead>\n",
       "  <tbody>\n",
       "    <tr>\n",
       "      <td>0</td>\n",
       "      <td>11403.7</td>\n",
       "      <td>11600.1</td>\n",
       "    </tr>\n",
       "    <tr>\n",
       "      <td>1</td>\n",
       "      <td>11225.3</td>\n",
       "      <td>12899.2</td>\n",
       "    </tr>\n",
       "    <tr>\n",
       "      <td>2</td>\n",
       "      <td>10551.8</td>\n",
       "      <td>11607.4</td>\n",
       "    </tr>\n",
       "    <tr>\n",
       "      <td>3</td>\n",
       "      <td>11112.7</td>\n",
       "      <td>11474.9</td>\n",
       "    </tr>\n",
       "    <tr>\n",
       "      <td>4</td>\n",
       "      <td>10233.9</td>\n",
       "      <td>11188.6</td>\n",
       "    </tr>\n",
       "  </tbody>\n",
       "</table>\n",
       "</div>"
      ],
      "text/plain": [
       "     Close  Prediction\n",
       "0  11403.7     11600.1\n",
       "1  11225.3     12899.2\n",
       "2  10551.8     11607.4\n",
       "3  11112.7     11474.9\n",
       "4  10233.9     11188.6"
      ]
     },
     "execution_count": 106,
     "metadata": {},
     "output_type": "execute_result"
    }
   ],
   "source": [
    "##first part of project is done, Prediction fucntion begins here\n",
    "##I have to use a different dataset because the dataset used above does not provide many tuples for training and testing\n",
    "Ndata = pd.read_csv(r'C:\\Users\\Sadiq Tijjani\\Desktop\\bitcoin_price_analysis.csv')\n",
    "Ndata.drop(['Open', 'High', 'Low', 'Volume', 'Market_Cap' ],1,inplace=True)\n",
    "Ndata.drop(['Date'],1,inplace=True)\n",
    "predictionDays = 30\n",
    "# Create another column shifted 'n'  units up\n",
    "Ndata['Prediction'] = Ndata[['Close']].shift(-predictionDays)\n",
    "# show the first 5 rows\n",
    "Ndata.head()"
   ]
  },
  {
   "cell_type": "code",
   "execution_count": 107,
   "metadata": {
    "scrolled": true
   },
   "outputs": [
    {
     "data": {
      "text/html": [
       "<div>\n",
       "<style scoped>\n",
       "    .dataframe tbody tr th:only-of-type {\n",
       "        vertical-align: middle;\n",
       "    }\n",
       "\n",
       "    .dataframe tbody tr th {\n",
       "        vertical-align: top;\n",
       "    }\n",
       "\n",
       "    .dataframe thead th {\n",
       "        text-align: right;\n",
       "    }\n",
       "</style>\n",
       "<table border=\"1\" class=\"dataframe\">\n",
       "  <thead>\n",
       "    <tr style=\"text-align: right;\">\n",
       "      <th></th>\n",
       "      <th>Close</th>\n",
       "      <th>Prediction</th>\n",
       "    </tr>\n",
       "  </thead>\n",
       "  <tbody>\n",
       "    <tr>\n",
       "      <td>1755</td>\n",
       "      <td>105.21</td>\n",
       "      <td>NaN</td>\n",
       "    </tr>\n",
       "    <tr>\n",
       "      <td>1756</td>\n",
       "      <td>116.99</td>\n",
       "      <td>NaN</td>\n",
       "    </tr>\n",
       "    <tr>\n",
       "      <td>1757</td>\n",
       "      <td>139.00</td>\n",
       "      <td>NaN</td>\n",
       "    </tr>\n",
       "    <tr>\n",
       "      <td>1758</td>\n",
       "      <td>144.54</td>\n",
       "      <td>NaN</td>\n",
       "    </tr>\n",
       "    <tr>\n",
       "      <td>1759</td>\n",
       "      <td>134.21</td>\n",
       "      <td>NaN</td>\n",
       "    </tr>\n",
       "  </tbody>\n",
       "</table>\n",
       "</div>"
      ],
      "text/plain": [
       "       Close  Prediction\n",
       "1755  105.21         NaN\n",
       "1756  116.99         NaN\n",
       "1757  139.00         NaN\n",
       "1758  144.54         NaN\n",
       "1759  134.21         NaN"
      ]
     },
     "execution_count": 107,
     "metadata": {},
     "output_type": "execute_result"
    }
   ],
   "source": [
    "Ndata.tail()"
   ]
  },
  {
   "cell_type": "code",
   "execution_count": 108,
   "metadata": {},
   "outputs": [
    {
     "name": "stdout",
     "output_type": "stream",
     "text": [
      "[[11403.7]\n",
      " [11225.3]\n",
      " [10551.8]\n",
      " ...\n",
      " [  128.8]\n",
      " [  132.3]\n",
      " [  129. ]]\n"
     ]
    }
   ],
   "source": [
    "# Create the independent data set\n",
    "# Here we will convert the data frame into a numpy array and drp the prediction column\n",
    "x = np.array(Ndata.drop(['Prediction'],1))\n",
    "# Remove the last 'n' rows where 'n' is the predictionDays\n",
    "x = x[:len(Ndata)-predictionDays]\n",
    "print(x)"
   ]
  },
  {
   "cell_type": "code",
   "execution_count": 109,
   "metadata": {},
   "outputs": [
    {
     "name": "stdout",
     "output_type": "stream",
     "text": [
      "[11600.1  12899.2  11607.4  ...   139.     144.54   134.21]\n"
     ]
    }
   ],
   "source": [
    "# Create the dependent data set\n",
    "# convert the data frame into a numpy array\n",
    "y = np.array(Ndata['Prediction'])\n",
    "# Get all the values except last 'n' rows\n",
    "y = y[:-predictionDays]\n",
    "print(y)\n",
    "\n"
   ]
  },
  {
   "cell_type": "code",
   "execution_count": 110,
   "metadata": {},
   "outputs": [
    {
     "name": "stdout",
     "output_type": "stream",
     "text": [
      "[[11600.1 ]\n",
      " [12899.2 ]\n",
      " [11607.4 ]\n",
      " ...\n",
      " [  139.  ]\n",
      " [  144.54]\n",
      " [  134.21]]\n"
     ]
    }
   ],
   "source": [
    "# Splitting the data into 80% training and 20% testing\n",
    "from sklearn.model_selection import train_test_split\n",
    "xtrain, xtest, ytrain, ytest = train_test_split(x,y, test_size = 0.2)\n",
    "# set the predictionDays array equal to last 30 rows from the original data set\n",
    "predictionDays_array = np.array(Ndata.drop(['Prediction'],1))[predictionDays:]\n",
    "print(predictionDays_array)"
   ]
  },
  {
   "cell_type": "code",
   "execution_count": 111,
   "metadata": {},
   "outputs": [
    {
     "data": {
      "text/plain": [
       "SVR(C=1000.0, cache_size=200, coef0=0.0, degree=3, epsilon=0.1, gamma=1e-05,\n",
       "    kernel='rbf', max_iter=-1, shrinking=True, tol=0.001, verbose=False)"
      ]
     },
     "execution_count": 111,
     "metadata": {},
     "output_type": "execute_result"
    }
   ],
   "source": [
    "from sklearn.svm import SVR\n",
    "# Creating and Training the Support Vector Machine (Regression) using radial basis function\n",
    "svr_rbf = SVR(kernel='rbf', C=1e3, gamma=0.00001)\n",
    "svr_rbf.fit(xtrain, ytrain)"
   ]
  },
  {
   "cell_type": "code",
   "execution_count": 112,
   "metadata": {},
   "outputs": [
    {
     "name": "stdout",
     "output_type": "stream",
     "text": [
      "SVR_RBF accuracy : 0.7685683772418391\n"
     ]
    }
   ],
   "source": [
    "svr_accuracy = svr_rbf.score(xtest,ytest)\n",
    "print('SVR_RBF accuracy :',svr_accuracy) ##We have achieved 76.8% accuracy"
   ]
  },
  {
   "cell_type": "code",
   "execution_count": 113,
   "metadata": {},
   "outputs": [
    {
     "name": "stdout",
     "output_type": "stream",
     "text": [
      "[  409.30234835   823.96763536   543.02182532   106.5817851\n",
      "   693.92670392   453.99297509   645.07731027  2320.45532811\n",
      "   459.7575622    309.82411752   261.74938259   592.629875\n",
      "   250.41547769   616.08170164   418.4084465    346.43060997\n",
      "   114.54834999   106.37965497   112.85134574   697.2666036\n",
      "  1030.35243809   106.2934879    686.70402412   487.23759122\n",
      "  1036.31438169   413.59383941   465.96109737   369.49915914\n",
      "   643.89465607   698.95737853  7748.00148998   391.37741163\n",
      "  3934.11021053  2520.46651066   290.74598915   228.08148758\n",
      "  4319.5279985    293.18120623   107.87276305  1182.00770199\n",
      "   117.43671432   560.6122915    809.54136526   709.1461056\n",
      "   237.15311918   974.93948898   581.18791584   810.23604033\n",
      "   471.39369921   225.12948507   594.29528258   260.13358876\n",
      "   438.93991832  6610.33496975   358.21183992   106.55531974\n",
      "  6677.62823178   949.89400784   607.45395351   369.9153882\n",
      "   619.61993794   600.13972379   456.71044786   271.72089576\n",
      "   640.96470114  1100.35299114   581.50088256   216.18045856\n",
      "   346.29154404   506.49292962   271.17738849  2417.19522836\n",
      "  4767.87481521   471.36934472   576.14747619   989.42458425\n",
      "   468.1494615    422.0517165    375.08173179   592.02935939\n",
      "   221.52770308   106.61662669   422.73915248   666.72004346\n",
      "   425.8098669   1191.70533021   624.622573    3489.380019\n",
      "   618.96728599   452.13564119   309.46190528  5800.6335486\n",
      "   599.69022183   231.59575207   368.80662197   339.22238719\n",
      "   616.9983316   2458.46708065  6742.7611107    107.35013036\n",
      "  3332.98974509   992.73915907   322.84998812   866.25131436\n",
      "  1045.11494989   749.77947244   369.16868861   913.38264661\n",
      "   528.57222738  7389.24669236   414.4989259    611.77985928\n",
      "   595.2826189    382.98198776  6592.70483775   236.52063225\n",
      "   253.70519783   123.14780626   306.56484399   954.61797988\n",
      "   597.98752512   445.34724466  4235.52940929  2354.20202023\n",
      "   989.40835563  4279.60914858   773.81741375   258.51915068\n",
      "  3902.49675321  6299.80328476  6949.79225007   117.90091971\n",
      "   381.94036847   618.09083725   231.78741758  1200.35446879\n",
      "  4035.77704053   836.13581107   107.60333279  4393.77007296\n",
      "  4129.68028326   649.79151489   547.79105104   511.64855951\n",
      "  1036.75225132   119.20472545   291.26392552   167.39132354\n",
      "   384.41637839   611.85143774   243.84172558  3020.74907598\n",
      "  2347.01756827   670.52917349  1986.96954781   435.45115301\n",
      "   405.52553323   466.36482238   269.63079928   215.19240751\n",
      "   212.15618447   934.38845245   371.37100679   110.89308995\n",
      "   657.32812188   439.0869863    221.28405519   109.90283779\n",
      "  5916.55753362  5721.38999243 10036.01745192   437.10269999\n",
      "   106.31796093   606.90259509  3365.8699457    731.12192757\n",
      "  9824.12187794  2325.11052973   109.06140802  3133.51589364\n",
      "   111.59717906   410.69758854   416.52837419   619.52462659\n",
      "   440.64420637   464.83493369   241.83965325   587.00340529\n",
      "   632.94738917   436.46631789   822.62038213   121.36753109\n",
      "   106.84202205   244.36180524   452.77528243   421.59377887\n",
      "   882.95655331   279.39462266   229.9564909    413.22505832\n",
      "   232.04655394   592.59316886   789.01079564   114.67997785\n",
      "  2539.94078591   240.08784483   115.76453873  4472.85611435\n",
      "   606.19245725   251.55846305   550.01326866   945.1936931\n",
      "   677.86481149   707.71021521   602.49582546   421.84681445\n",
      "  2070.58350715   358.93352216  2297.20543724   216.56801877\n",
      "   757.28952419  3723.57852746   263.35638957  7672.71366136\n",
      "   367.74405088  6608.1713728    635.39998452   644.15780253\n",
      "   274.16055001   345.9738908    351.13283008   234.05636643\n",
      "   354.11872744   114.39280872   352.18237561   227.72808161\n",
      "   222.18826762   106.65627836  1192.83123375   603.13548151\n",
      "   454.9891334    584.01936855   674.5269403   2270.25035912\n",
      "   725.72615099   232.39550426  3156.20968274  2294.89696719\n",
      "   433.20350531   619.5159658    346.66914035   698.90774777\n",
      "   242.25422114  8056.92204168   608.54573835   261.09595241\n",
      "   270.43476766   240.36223143   272.58863246   442.25178079\n",
      "   110.01191018   603.44898724   813.22942695  7179.85832289\n",
      "  2437.94557056   234.68259323   369.60583398   329.35362111\n",
      "   324.61029378  2466.1063109    356.12808851  1005.03754983\n",
      "   612.56263385   607.33354777   224.45101987   621.09922457\n",
      "  4238.05006958  2178.18065098   624.19324351   353.28600354\n",
      "   581.55706297   223.96728646  3870.23106097   598.70140388\n",
      "   983.65407276   701.3831842   3178.5166546    620.49889413\n",
      "   300.87763993   605.28074091   553.62264243   115.68311124\n",
      "   668.02918497   371.01721165   378.20925742   113.42170554\n",
      "   107.69328063   546.55977711   603.13996845   528.9936274\n",
      "   931.84383626   340.2168782   1014.75621517  1033.1761595\n",
      "   488.1524977    219.99370668   282.68422744   610.18922126\n",
      "   260.71752583   272.49014115   448.38403017   106.55024051\n",
      "   225.49694261   232.66540621   106.35539125   588.26469391\n",
      "   424.1037964    115.08657026   109.16331673   333.19301644\n",
      "   888.38636267   833.369069    5828.35856588   218.72258264\n",
      "   604.32077825   321.64784776   606.55240179   282.60758339\n",
      "   272.16491105   172.79407546   587.40954935 11746.7364844\n",
      "   230.40949698   377.26907243   602.26937621   232.23795939\n",
      "  2533.75543161   437.02925703   909.87878697   476.98945616\n",
      "   663.90780702   472.45251433   609.27364995  1026.84097085\n",
      "   456.66127703   419.99328041]\n",
      "\n",
      "[  422.37   792.71   455.1     94.65   453.78   515.59   636.79  1555.45\n",
      "   311.08   381.31   287.46   524.58   274.35   526.23   438.8    293.79\n",
      "   139.     123.5    120.05   716.41  1004.45   129.75   703.42   589.37\n",
      "   990.64   628.8    565.61   342.42   619.11   213.62 13772.     422.28\n",
      "  3154.95  2601.64   232.76   322.53  4371.6    220.11   101.44  1176.9\n",
      "   109.     853.61   420.2    705.02   231.27   921.01   677.33   360.33\n",
      "   580.83   281.88   578.29   126.94   338.15  8071.26   454.93   122.\n",
      "  7459.69  1222.5    870.96   345.31   530.04   608.63   442.73   230.62\n",
      "   296.41  1102.17   566.36   261.75   423.56   578.77   315.86  1421.6\n",
      "  4317.48   417.94   639.8    917.59   636.12   638.14   432.98   597.26\n",
      "   285.22   123.02   381.65   701.86   432.52  1169.28   581.64  4579.02\n",
      "   602.63   418.04   236.69  6008.42   570.47   232.88   430.01   376.13\n",
      "   454.43  2548.29  6559.49    98.4   2875.34  1038.15   285.3    829.45\n",
      "  1045.77  1151.17   349.29   804.83   593.85 13925.8    437.7    609.24\n",
      "   443.97   454.99 17899.7    235.02   233.84   129.22   378.05  1251.01\n",
      "   722.43   146.25  4352.4   2038.87  1255.15  4001.74   691.96   243.61\n",
      "  3924.97 11607.4  16564.     122.62   429.11   841.2    244.22  1175.95\n",
      "  2810.12   800.88   128.8   5725.59  4338.71   842.72   451.88   565.04\n",
      "   970.4    100.     361.91   127.43   374.47   712.4    240.11  2518.44\n",
      "  1804.91   657.59  1316.48   394.97   364.33   461.46   224.95   225.86\n",
      "   267.8   1013.38   339.49   112.5    618.99   368.77   315.03    94.12\n",
      "  6130.53  4826.48  7078.5    379.47    86.76   590.83  2757.18   795.87\n",
      " 16624.6   2488.55   111.5   2228.41   136.77   379.65   433.5    673.34\n",
      "   495.67   335.09   235.34   602.72   572.73   371.29   735.07   104.5\n",
      "   122.88   254.26   479.64   400.87   206.18   221.76   221.61   420.79\n",
      "   224.59   650.88   761.98   126.74  1787.13   265.08   127.11  4229.36\n",
      "   457.76   233.51   448.32   902.83   454.62   705.05   447.64   632.1\n",
      "  1347.89   475.26  2202.42   234.93   818.72  2730.4    352.54 15455.4\n",
      "   447.61  9818.35   606.17   172.42   230.28   363.26   313.86   264.47\n",
      "   138.13   126.43   435.79   277.22   283.35    94.69  1187.13   622.86\n",
      "   527.39   654.35  1131.97  2655.88   682.21   228.76  4703.39  2589.41\n",
      "   465.32   647.     358.42   727.83   235.98  5780.9    811.91   231.49\n",
      "   226.85   245.02   249.01   378.25   108.9    781.55   417.95 15178.2\n",
      "  1452.82   227.18   389.55   261.64   484.83  2480.84   479.75   901.54\n",
      "   607.15   587.8    241.11   569.19  4087.66  1281.08   774.25   477.59\n",
      "   665.68   252.8   3882.59   577.44  1267.12   703.24  4582.96   596.3\n",
      "   239.14   592.94   450.3    121.42   443.19   458.05   402.15   124.15\n",
      "    99.98   449.01   653.15   622.21   908.59   366.92   973.82   999.18\n",
      "   519.71   351.63   234.34   441.46   230.19   350.51   322.02   117.2\n",
      "   228.17   219.16    88.05   440.67   358.04   121.2    109.5    130.59\n",
      "   756.77   741.65  4403.74   294.43   593.98   274.02   649.16   271.91\n",
      "   374.79   128.22   635.81 16099.8    253.     463.62   616.63   294.35\n",
      "  2721.79   361.05   777.94   491.8    689.65   326.15   608.31   920.38\n",
      "   617.45   417.13]\n"
     ]
    }
   ],
   "source": [
    "# print the predicted values\n",
    "svm_prediction = svr_rbf.predict(xtest)\n",
    "print(svm_prediction)\n",
    "print()\n",
    "print(ytest)"
   ]
  },
  {
   "cell_type": "code",
   "execution_count": 114,
   "metadata": {},
   "outputs": [
    {
     "name": "stdout",
     "output_type": "stream",
     "text": [
      "[9897.47867238 7577.03112794 9824.12187794 ...  121.89844587  126.62259977\n",
      "  118.21223822]\n",
      "\n",
      "       Close  Prediction\n",
      "1730  129.75         NaN\n",
      "1731  133.48         NaN\n",
      "1732  131.98         NaN\n",
      "1733  133.20         NaN\n",
      "1734  126.70         NaN\n",
      "1735  123.89         NaN\n",
      "1736  122.88         NaN\n",
      "1737  122.00         NaN\n",
      "1738  121.99         NaN\n",
      "1739  123.50         NaN\n",
      "1740  123.02         NaN\n",
      "1741  118.76         NaN\n",
      "1742  114.22         NaN\n",
      "1743  111.50         NaN\n",
      "1744  117.98         NaN\n",
      "1745  115.00         NaN\n",
      "1746  115.24         NaN\n",
      "1747  117.20         NaN\n",
      "1748  112.67         NaN\n",
      "1749  113.57         NaN\n",
      "1750  111.50         NaN\n",
      "1751  112.30         NaN\n",
      "1752  115.91         NaN\n",
      "1753  112.50         NaN\n",
      "1754   97.75         NaN\n",
      "1755  105.21         NaN\n",
      "1756  116.99         NaN\n",
      "1757  139.00         NaN\n",
      "1758  144.54         NaN\n",
      "1759  134.21         NaN\n"
     ]
    }
   ],
   "source": [
    "# Print the model predictions for the next 30 days\n",
    "svm_prediction = svr_rbf.predict(predictionDays_array)\n",
    "print(svm_prediction)\n",
    "print()\n",
    "#Print the actual price for bitcoin for last 30 days\n",
    "print(Ndata.tail(predictionDays))"
   ]
  },
  {
   "cell_type": "code",
   "execution_count": 121,
   "metadata": {},
   "outputs": [
    {
     "data": {
      "text/plain": [
       "<matplotlib.legend.Legend at 0x205c09a6ec8>"
      ]
     },
     "execution_count": 121,
     "metadata": {},
     "output_type": "execute_result"
    },
    {
     "data": {
      "image/png": "[encoded data removed]",
      "text/plain": [
       "<Figure size 1440x720 with 1 Axes>"
      ]
     },
     "metadata": {
      "needs_background": "light"
     },
     "output_type": "display_data"
    }
   ],
   "source": [
    "#Plotting both  in the same plot\n",
    "Ndata1 = pd.read_csv(r'C:\\Users\\Sadiq Tijjani\\Desktop\\bitcoin_price_analysis.csv')\n",
    "compare_data = Ndata1[Ndata1.Close >= 129.75]#Selecting for values after  the closing price hitting 129.75\n",
    "plt.figure(figsize=(20, 10))  # Set figsize to increase size of figure\n",
    "plt.plot(compare_data.Close.values[:1731], label=\"Base truth\")\n",
    "plt.plot(svm_prediction, c='r', label=\"predictions\")\n",
    "plt.legend()"
   ]
  },
  {
   "cell_type": "code",
   "execution_count": null,
   "metadata": {},
   "outputs": [],
   "source": []
  }
 ],
 "metadata": {
  "kernelspec": {
   "display_name": "Python 3",
   "language": "python",
   "name": "python3"
  },
  "language_info": {
   "codemirror_mode": {
    "name": "ipython",
    "version": 3
   },
   "file_extension": ".py",
   "mimetype": "text/x-python",
   "name": "python",
   "nbconvert_exporter": "python",
   "pygments_lexer": "ipython3",
   "version": "3.7.4"
  }
 },
 "nbformat": 4,
 "nbformat_minor": 2
}
